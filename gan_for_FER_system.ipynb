{
  "nbformat": 4,
  "nbformat_minor": 0,
  "metadata": {
    "colab": {
      "provenance": [],
      "gpuType": "T4",
      "authorship_tag": "ABX9TyMHK7ppDcs98xXwenRT6mcc",
      "include_colab_link": true
    },
    "kernelspec": {
      "name": "python3",
      "display_name": "Python 3"
    },
    "language_info": {
      "name": "python"
    },
    "accelerator": "GPU"
  },
  "cells": [
    {
      "cell_type": "markdown",
      "metadata": {
        "id": "view-in-github",
        "colab_type": "text"
      },
      "source": [
        "<a href=\"https://colab.research.google.com/github/ashrafizahra81/CodART/blob/main/gan_for_FER_system.ipynb\" target=\"_parent\"><img src=\"https://colab.research.google.com/assets/colab-badge.svg\" alt=\"Open In Colab\"/></a>"
      ]
    },
    {
      "cell_type": "markdown",
      "source": [
        "Import Dependencies"
      ],
      "metadata": {
        "id": "mdrCfo6Y1w_D"
      }
    },
    {
      "cell_type": "code",
      "execution_count": 1,
      "metadata": {
        "id": "uH-BnvXxNxPl"
      },
      "outputs": [],
      "source": [
        "import numpy as np\n",
        "import os\n",
        "import cv2\n",
        "import pandas as pd\n",
        "from tqdm import tqdm\n",
        "from PIL import Image\n",
        "import pickle\n",
        "import time\n",
        "from google.colab.patches import cv2_imshow\n",
        "from matplotlib import pyplot\n",
        "import matplotlib.pyplot as plt\n",
        "from numpy import expand_dims, zeros, ones, vstack\n",
        "from numpy.random import randn, randint\n",
        "\n",
        "import tensorflow as tf\n",
        "from keras.models import Sequential,load_model,Model, model_from_json\n",
        "from keras.regularizers import l2\n",
        "from keras.optimizers import Adam, RMSprop\n",
        "from keras.callbacks import ModelCheckpoint\n",
        "from sklearn.model_selection import train_test_split\n",
        "from keras.layers import Conv2D,MaxPool2D,Dense,Dropout,BatchNormalization,Flatten,Input, MaxPooling2D,Activation,Add, Reshape, Conv2DTranspose, LeakyReLU\n",
        "from sklearn.model_selection import train_test_split\n",
        "from keras.preprocessing.image import ImageDataGenerator\n",
        "from keras.datasets.cifar10 import load_data"
      ]
    },
    {
      "cell_type": "markdown",
      "source": [
        "Mount To The Drive"
      ],
      "metadata": {
        "id": "B3zbHFHV11lw"
      }
    },
    {
      "cell_type": "code",
      "source": [
        "from google.colab import drive\n",
        "drive.mount('/content/drive')"
      ],
      "metadata": {
        "colab": {
          "base_uri": "https://localhost:8080/"
        },
        "id": "uvNeWEEU2JID",
        "outputId": "d2c8ff64-ddbf-4b2d-fe17-88a6380c3933"
      },
      "execution_count": 2,
      "outputs": [
        {
          "output_type": "stream",
          "name": "stdout",
          "text": [
            "Mounted at /content/drive\n"
          ]
        }
      ]
    },
    {
      "cell_type": "markdown",
      "source": [
        "Install Kaggle And Download The FER-2013 Dataset"
      ],
      "metadata": {
        "id": "1aKfeyjZ2Sfe"
      }
    },
    {
      "cell_type": "code",
      "source": [
        "! pip install kaggle\n",
        "! mkdir ~/.kaggle\n",
        "!cp /content/drive/MyDrive/BS_Project_2_FER_Dataset/kaggle.json ~/.kaggle/kaggle.json\n",
        "! chmod 600 ~/.kaggle/kaggle.json\n",
        "! kaggle datasets download msambare/fer2013\n",
        "!unzip /content/fer2013.zip -d './FER-dataset'"
      ],
      "metadata": {
        "id": "r824Sk0Y2Zdv"
      },
      "execution_count": null,
      "outputs": []
    },
    {
      "cell_type": "code",
      "source": [
        "!unzip /content/fer2013.zip -d '/content/drive/MyDrive/BS-Project-Gan-For-FER-System/FER-dataset'"
      ],
      "metadata": {
        "id": "Y6WEH4lB23BO"
      },
      "execution_count": null,
      "outputs": []
    },
    {
      "cell_type": "markdown",
      "source": [
        "Show Some Of The Images From The Dataset"
      ],
      "metadata": {
        "id": "QxurT7LG3v2r"
      }
    },
    {
      "cell_type": "code",
      "source": [
        "PIC_DIR = './FER-dataset/train/happy/'\n",
        "IMAGES_COUNT = 10000\n",
        "ORIG_WIDTH = 178\n",
        "ORIG_HEIGHT = 208\n",
        "diff = (ORIG_HEIGHT - ORIG_WIDTH) // 2\n",
        "WIDTH = 128\n",
        "HEIGHT = 128\n",
        "crop_rect = (0, diff, ORIG_WIDTH, ORIG_HEIGHT - diff)\n",
        "images = []\n",
        "images2=[]\n",
        "for pic_file in tqdm(os.listdir(PIC_DIR)[:IMAGES_COUNT]):\n",
        "    pic = Image.open(PIC_DIR + pic_file)\n",
        "    pic.thumbnail((WIDTH, HEIGHT), Image.ANTIALIAS)\n",
        "    images.append(np.uint8(pic)) #Normalize the images\n",
        "images = np.array(images) / 255\n",
        "images.shape #print first 25 images\n",
        "plt.figure(1, figsize=(10, 10))\n",
        "for i in range(25):\n",
        "\n",
        "    img = images[i]\n",
        "    img = np.stack((img,)*3, axis=-1)\n",
        "    images2.append(img)\n",
        "    plt.subplot(5, 5, i+1)\n",
        "    plt.imshow(img)\n",
        "    plt.axis('off')\n",
        "plt.show()"
      ],
      "metadata": {
        "id": "9ukUp4K14whA"
      },
      "execution_count": null,
      "outputs": []
    }
  ]
}